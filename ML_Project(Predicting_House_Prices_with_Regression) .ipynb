{
  "nbformat": 4,
  "nbformat_minor": 0,
  "metadata": {
    "kernelspec": {
      "display_name": "Python 3",
      "language": "python",
      "name": "python3"
    },
    "language_info": {
      "codemirror_mode": {
        "name": "ipython",
        "version": 3
      },
      "file_extension": ".py",
      "mimetype": "text/x-python",
      "name": "python",
      "nbconvert_exporter": "python",
      "pygments_lexer": "ipython3",
      "version": "3.6.8"
    },
    "colab": {
      "name": "ML Project(Predicting House Prices with Regression).ipynb",
      "provenance": [],
      "collapsed_sections": [],
      "toc_visible": true
    }
  },
  "cells": [
    {
      "cell_type": "markdown",
      "metadata": {
        "id": "4STg6airPNNn",
        "colab_type": "text"
      },
      "source": [
        "# Task 1: Introduction\n",
        "\n",
        "---\n",
        "\n",
        "For this project, we are going to work on evaluating price of houses given the following features:\n",
        "\n",
        "1. Year of sale of the house\n",
        "2. The age of the house at the time of sale\n",
        "3. Distance from city center\n",
        "4. Number of stores in the locality\n",
        "5. The latitude\n",
        "6. The longitude\n",
        "\n",
        "\n",
        "Note: This notebook uses `python 3` and these packages: `tensorflow`, `pandas`, `matplotlib`, `scikit-learn`."
      ]
    },
    {
      "cell_type": "markdown",
      "metadata": {
        "id": "RLCQLLvMPNNp",
        "colab_type": "text"
      },
      "source": [
        "## 1.1: Importing Libraries & Helper Functions\n",
        "\n",
        "First of all, we will need to import some libraries and helper functions. This includes TensorFlow and some utility functions that I've written to save time."
      ]
    },
    {
      "cell_type": "code",
      "metadata": {
        "id": "IWug-067PNNq",
        "colab_type": "code",
        "colab": {
          "base_uri": "https://localhost:8080/",
          "height": 35
        },
        "outputId": "cd0f5631-ed42-42d3-f1fa-c3b0d163b434"
      },
      "source": [
        "import pandas as pd\n",
        "import matplotlib.pyplot as plt\n",
        "import tensorflow as tf\n",
        "\n",
        "\n",
        "from sklearn.model_selection import train_test_split\n",
        "from tensorflow.keras.models import Sequential\n",
        "from tensorflow.keras.layers import Dense, Dropout\n",
        "from tensorflow.keras.callbacks import EarlyStopping, LambdaCallback\n",
        "import matplotlib.pyplot as plt\n",
        "\n",
        "%matplotlib inline\n",
        "tf.compat.v1.logging.set_verbosity(tf.compat.v1.logging.ERROR)\n",
        "\n",
        "print('Libraries imported.')"
      ],
      "execution_count": 38,
      "outputs": [
        {
          "output_type": "stream",
          "text": [
            "Libraries imported.\n"
          ],
          "name": "stdout"
        }
      ]
    },
    {
      "cell_type": "markdown",
      "metadata": {
        "id": "IliNxds7PNNw",
        "colab_type": "text"
      },
      "source": [
        "# Task 2: Importing the Data"
      ]
    },
    {
      "cell_type": "markdown",
      "metadata": {
        "id": "j1PT0g7pPNNx",
        "colab_type": "text"
      },
      "source": [
        "## 2.1: Importing the Data\n",
        "\n",
        "The dataset is saved in a `data.csv` file. We will use `pandas` to take a look at some of the rows."
      ]
    },
    {
      "cell_type": "code",
      "metadata": {
        "id": "XoH8BerNPNNx",
        "colab_type": "code",
        "colab": {
          "base_uri": "https://localhost:8080/",
          "height": 202
        },
        "outputId": "62518e18-7b12-418d-b804-fbb0193144d4"
      },
      "source": [
        "df = pd.read_csv('data.csv', names= ['serial','date','age','distance','stores','latitude','longitude','price']) \n",
        "df.head()"
      ],
      "execution_count": 39,
      "outputs": [
        {
          "output_type": "execute_result",
          "data": {
            "text/html": [
              "<div>\n",
              "<style scoped>\n",
              "    .dataframe tbody tr th:only-of-type {\n",
              "        vertical-align: middle;\n",
              "    }\n",
              "\n",
              "    .dataframe tbody tr th {\n",
              "        vertical-align: top;\n",
              "    }\n",
              "\n",
              "    .dataframe thead th {\n",
              "        text-align: right;\n",
              "    }\n",
              "</style>\n",
              "<table border=\"1\" class=\"dataframe\">\n",
              "  <thead>\n",
              "    <tr style=\"text-align: right;\">\n",
              "      <th></th>\n",
              "      <th>serial</th>\n",
              "      <th>date</th>\n",
              "      <th>age</th>\n",
              "      <th>distance</th>\n",
              "      <th>stores</th>\n",
              "      <th>latitude</th>\n",
              "      <th>longitude</th>\n",
              "      <th>price</th>\n",
              "    </tr>\n",
              "  </thead>\n",
              "  <tbody>\n",
              "    <tr>\n",
              "      <th>0</th>\n",
              "      <td>0</td>\n",
              "      <td>2009</td>\n",
              "      <td>21</td>\n",
              "      <td>9</td>\n",
              "      <td>6</td>\n",
              "      <td>84</td>\n",
              "      <td>121</td>\n",
              "      <td>14264</td>\n",
              "    </tr>\n",
              "    <tr>\n",
              "      <th>1</th>\n",
              "      <td>1</td>\n",
              "      <td>2007</td>\n",
              "      <td>4</td>\n",
              "      <td>2</td>\n",
              "      <td>3</td>\n",
              "      <td>86</td>\n",
              "      <td>121</td>\n",
              "      <td>12032</td>\n",
              "    </tr>\n",
              "    <tr>\n",
              "      <th>2</th>\n",
              "      <td>2</td>\n",
              "      <td>2016</td>\n",
              "      <td>18</td>\n",
              "      <td>3</td>\n",
              "      <td>7</td>\n",
              "      <td>90</td>\n",
              "      <td>120</td>\n",
              "      <td>13560</td>\n",
              "    </tr>\n",
              "    <tr>\n",
              "      <th>3</th>\n",
              "      <td>3</td>\n",
              "      <td>2002</td>\n",
              "      <td>13</td>\n",
              "      <td>2</td>\n",
              "      <td>2</td>\n",
              "      <td>80</td>\n",
              "      <td>128</td>\n",
              "      <td>12029</td>\n",
              "    </tr>\n",
              "    <tr>\n",
              "      <th>4</th>\n",
              "      <td>4</td>\n",
              "      <td>2014</td>\n",
              "      <td>25</td>\n",
              "      <td>5</td>\n",
              "      <td>8</td>\n",
              "      <td>81</td>\n",
              "      <td>122</td>\n",
              "      <td>14157</td>\n",
              "    </tr>\n",
              "  </tbody>\n",
              "</table>\n",
              "</div>"
            ],
            "text/plain": [
              "   serial  date  age  distance  stores  latitude  longitude  price\n",
              "0       0  2009   21         9       6        84        121  14264\n",
              "1       1  2007    4         2       3        86        121  12032\n",
              "2       2  2016   18         3       7        90        120  13560\n",
              "3       3  2002   13         2       2        80        128  12029\n",
              "4       4  2014   25         5       8        81        122  14157"
            ]
          },
          "metadata": {
            "tags": []
          },
          "execution_count": 39
        }
      ]
    },
    {
      "cell_type": "markdown",
      "metadata": {
        "id": "2tAndfwUPNN0",
        "colab_type": "text"
      },
      "source": [
        "## 2.2: Check Missing Data\n",
        "\n"
      ]
    },
    {
      "cell_type": "code",
      "metadata": {
        "id": "4kT2tkgIPNN1",
        "colab_type": "code",
        "colab": {
          "base_uri": "https://localhost:8080/",
          "height": 173
        },
        "outputId": "0fe5319f-6a1a-41e2-f07d-a0b0db7ffdf3"
      },
      "source": [
        "df.isna().sum()"
      ],
      "execution_count": 40,
      "outputs": [
        {
          "output_type": "execute_result",
          "data": {
            "text/plain": [
              "serial       0\n",
              "date         0\n",
              "age          0\n",
              "distance     0\n",
              "stores       0\n",
              "latitude     0\n",
              "longitude    0\n",
              "price        0\n",
              "dtype: int64"
            ]
          },
          "metadata": {
            "tags": []
          },
          "execution_count": 40
        }
      ]
    },
    {
      "cell_type": "markdown",
      "metadata": {
        "id": "Byj-SFsjPNN3",
        "colab_type": "text"
      },
      "source": [
        "# Task 3: Data Normalization"
      ]
    },
    {
      "cell_type": "markdown",
      "metadata": {
        "id": "RfP0M0uCPNN3",
        "colab_type": "text"
      },
      "source": [
        "## 3.1: Data Normalization\n",
        "\n"
      ]
    },
    {
      "cell_type": "code",
      "metadata": {
        "id": "tjl1ZqmnPNN4",
        "colab_type": "code",
        "colab": {
          "base_uri": "https://localhost:8080/",
          "height": 202
        },
        "outputId": "e814c134-14ac-4651-b283-dd975c578ccf"
      },
      "source": [
        "df = df.iloc[:,1:]\n",
        "df_norm = (df - df.mean()) / df.std()\n",
        "df_norm.head()"
      ],
      "execution_count": 41,
      "outputs": [
        {
          "output_type": "execute_result",
          "data": {
            "text/html": [
              "<div>\n",
              "<style scoped>\n",
              "    .dataframe tbody tr th:only-of-type {\n",
              "        vertical-align: middle;\n",
              "    }\n",
              "\n",
              "    .dataframe tbody tr th {\n",
              "        vertical-align: top;\n",
              "    }\n",
              "\n",
              "    .dataframe thead th {\n",
              "        text-align: right;\n",
              "    }\n",
              "</style>\n",
              "<table border=\"1\" class=\"dataframe\">\n",
              "  <thead>\n",
              "    <tr style=\"text-align: right;\">\n",
              "      <th></th>\n",
              "      <th>date</th>\n",
              "      <th>age</th>\n",
              "      <th>distance</th>\n",
              "      <th>stores</th>\n",
              "      <th>latitude</th>\n",
              "      <th>longitude</th>\n",
              "      <th>price</th>\n",
              "    </tr>\n",
              "  </thead>\n",
              "  <tbody>\n",
              "    <tr>\n",
              "      <th>0</th>\n",
              "      <td>0.015978</td>\n",
              "      <td>0.181384</td>\n",
              "      <td>1.257002</td>\n",
              "      <td>0.345224</td>\n",
              "      <td>-0.307212</td>\n",
              "      <td>-1.260799</td>\n",
              "      <td>0.350088</td>\n",
              "    </tr>\n",
              "    <tr>\n",
              "      <th>1</th>\n",
              "      <td>-0.350485</td>\n",
              "      <td>-1.319118</td>\n",
              "      <td>-0.930610</td>\n",
              "      <td>-0.609312</td>\n",
              "      <td>0.325301</td>\n",
              "      <td>-1.260799</td>\n",
              "      <td>-1.836486</td>\n",
              "    </tr>\n",
              "    <tr>\n",
              "      <th>2</th>\n",
              "      <td>1.298598</td>\n",
              "      <td>-0.083410</td>\n",
              "      <td>-0.618094</td>\n",
              "      <td>0.663402</td>\n",
              "      <td>1.590328</td>\n",
              "      <td>-1.576456</td>\n",
              "      <td>-0.339584</td>\n",
              "    </tr>\n",
              "    <tr>\n",
              "      <th>3</th>\n",
              "      <td>-1.266643</td>\n",
              "      <td>-0.524735</td>\n",
              "      <td>-0.930610</td>\n",
              "      <td>-0.927491</td>\n",
              "      <td>-1.572238</td>\n",
              "      <td>0.948803</td>\n",
              "      <td>-1.839425</td>\n",
              "    </tr>\n",
              "    <tr>\n",
              "      <th>4</th>\n",
              "      <td>0.932135</td>\n",
              "      <td>0.534444</td>\n",
              "      <td>0.006938</td>\n",
              "      <td>0.981581</td>\n",
              "      <td>-1.255981</td>\n",
              "      <td>-0.945141</td>\n",
              "      <td>0.245266</td>\n",
              "    </tr>\n",
              "  </tbody>\n",
              "</table>\n",
              "</div>"
            ],
            "text/plain": [
              "       date       age  distance    stores  latitude  longitude     price\n",
              "0  0.015978  0.181384  1.257002  0.345224 -0.307212  -1.260799  0.350088\n",
              "1 -0.350485 -1.319118 -0.930610 -0.609312  0.325301  -1.260799 -1.836486\n",
              "2  1.298598 -0.083410 -0.618094  0.663402  1.590328  -1.576456 -0.339584\n",
              "3 -1.266643 -0.524735 -0.930610 -0.927491 -1.572238   0.948803 -1.839425\n",
              "4  0.932135  0.534444  0.006938  0.981581 -1.255981  -0.945141  0.245266"
            ]
          },
          "metadata": {
            "tags": []
          },
          "execution_count": 41
        }
      ]
    },
    {
      "cell_type": "markdown",
      "metadata": {
        "id": "n3XREqAUPNN6",
        "colab_type": "text"
      },
      "source": [
        "## 3.2: Convert Label Value\n",
        "\n",
        "Because we are using normalized values for the labels, we will get the predictions back from a trained model in the same distribution. So, we need to convert the predicted values back to the original distribution if we want predicted prices.We write down a function here so that we can use this function to get back to original Label Value using this function. "
      ]
    },
    {
      "cell_type": "code",
      "metadata": {
        "id": "QxBY4CLYPNN7",
        "colab_type": "code",
        "colab": {}
      },
      "source": [
        "y_mean = df['price'].mean()\n",
        "y_std = df['price'].std()\n",
        "\n",
        "def convert_label_value(pred):\n",
        "    return int(pred * y_std + y_mean)"
      ],
      "execution_count": 42,
      "outputs": []
    },
    {
      "cell_type": "markdown",
      "metadata": {
        "id": "XCElBqzbPNN9",
        "colab_type": "text"
      },
      "source": [
        "# Task 4: Create Training and Test Sets"
      ]
    },
    {
      "cell_type": "markdown",
      "metadata": {
        "id": "fGF5sYgWPNN9",
        "colab_type": "text"
      },
      "source": [
        "## 4.1: Select Features\n"
      ]
    },
    {
      "cell_type": "code",
      "metadata": {
        "id": "Hxp-_vwoPNN_",
        "colab_type": "code",
        "colab": {
          "base_uri": "https://localhost:8080/",
          "height": 202
        },
        "outputId": "0a87a8e0-50d5-4a87-c649-bfb379ebf0dd"
      },
      "source": [
        "X = df_norm.iloc[:, :6]\n",
        "X.head()"
      ],
      "execution_count": 43,
      "outputs": [
        {
          "output_type": "execute_result",
          "data": {
            "text/html": [
              "<div>\n",
              "<style scoped>\n",
              "    .dataframe tbody tr th:only-of-type {\n",
              "        vertical-align: middle;\n",
              "    }\n",
              "\n",
              "    .dataframe tbody tr th {\n",
              "        vertical-align: top;\n",
              "    }\n",
              "\n",
              "    .dataframe thead th {\n",
              "        text-align: right;\n",
              "    }\n",
              "</style>\n",
              "<table border=\"1\" class=\"dataframe\">\n",
              "  <thead>\n",
              "    <tr style=\"text-align: right;\">\n",
              "      <th></th>\n",
              "      <th>date</th>\n",
              "      <th>age</th>\n",
              "      <th>distance</th>\n",
              "      <th>stores</th>\n",
              "      <th>latitude</th>\n",
              "      <th>longitude</th>\n",
              "    </tr>\n",
              "  </thead>\n",
              "  <tbody>\n",
              "    <tr>\n",
              "      <th>0</th>\n",
              "      <td>0.015978</td>\n",
              "      <td>0.181384</td>\n",
              "      <td>1.257002</td>\n",
              "      <td>0.345224</td>\n",
              "      <td>-0.307212</td>\n",
              "      <td>-1.260799</td>\n",
              "    </tr>\n",
              "    <tr>\n",
              "      <th>1</th>\n",
              "      <td>-0.350485</td>\n",
              "      <td>-1.319118</td>\n",
              "      <td>-0.930610</td>\n",
              "      <td>-0.609312</td>\n",
              "      <td>0.325301</td>\n",
              "      <td>-1.260799</td>\n",
              "    </tr>\n",
              "    <tr>\n",
              "      <th>2</th>\n",
              "      <td>1.298598</td>\n",
              "      <td>-0.083410</td>\n",
              "      <td>-0.618094</td>\n",
              "      <td>0.663402</td>\n",
              "      <td>1.590328</td>\n",
              "      <td>-1.576456</td>\n",
              "    </tr>\n",
              "    <tr>\n",
              "      <th>3</th>\n",
              "      <td>-1.266643</td>\n",
              "      <td>-0.524735</td>\n",
              "      <td>-0.930610</td>\n",
              "      <td>-0.927491</td>\n",
              "      <td>-1.572238</td>\n",
              "      <td>0.948803</td>\n",
              "    </tr>\n",
              "    <tr>\n",
              "      <th>4</th>\n",
              "      <td>0.932135</td>\n",
              "      <td>0.534444</td>\n",
              "      <td>0.006938</td>\n",
              "      <td>0.981581</td>\n",
              "      <td>-1.255981</td>\n",
              "      <td>-0.945141</td>\n",
              "    </tr>\n",
              "  </tbody>\n",
              "</table>\n",
              "</div>"
            ],
            "text/plain": [
              "       date       age  distance    stores  latitude  longitude\n",
              "0  0.015978  0.181384  1.257002  0.345224 -0.307212  -1.260799\n",
              "1 -0.350485 -1.319118 -0.930610 -0.609312  0.325301  -1.260799\n",
              "2  1.298598 -0.083410 -0.618094  0.663402  1.590328  -1.576456\n",
              "3 -1.266643 -0.524735 -0.930610 -0.927491 -1.572238   0.948803\n",
              "4  0.932135  0.534444  0.006938  0.981581 -1.255981  -0.945141"
            ]
          },
          "metadata": {
            "tags": []
          },
          "execution_count": 43
        }
      ]
    },
    {
      "cell_type": "markdown",
      "metadata": {
        "id": "kxM9NKWtPNOC",
        "colab_type": "text"
      },
      "source": [
        "## 4.2: Select Labels"
      ]
    },
    {
      "cell_type": "code",
      "metadata": {
        "id": "GgvA6zFePNOC",
        "colab_type": "code",
        "colab": {
          "base_uri": "https://localhost:8080/",
          "height": 121
        },
        "outputId": "9a53f69c-7f49-4aa5-c5c0-a402612c9ea1"
      },
      "source": [
        "Y = df_norm.iloc[:, -1]\n",
        "Y.head()"
      ],
      "execution_count": 44,
      "outputs": [
        {
          "output_type": "execute_result",
          "data": {
            "text/plain": [
              "0    0.350088\n",
              "1   -1.836486\n",
              "2   -0.339584\n",
              "3   -1.839425\n",
              "4    0.245266\n",
              "Name: price, dtype: float64"
            ]
          },
          "metadata": {
            "tags": []
          },
          "execution_count": 44
        }
      ]
    },
    {
      "cell_type": "markdown",
      "metadata": {
        "id": "bDPaF912PNOF",
        "colab_type": "text"
      },
      "source": [
        "## 4.3: Feature and Label Values\n",
        "\n",
        "We will need to extract just the numeric values for the features and labels as the TensorFlow model will expect just numeric values as input."
      ]
    },
    {
      "cell_type": "code",
      "metadata": {
        "id": "lt9CrjUrPNOF",
        "colab_type": "code",
        "colab": {
          "base_uri": "https://localhost:8080/",
          "height": 52
        },
        "outputId": "12c9b233-0aba-4035-b192-67b9ca83e74b"
      },
      "source": [
        "X_arr = X.values\n",
        "Y_arr = Y.values\n",
        "\n",
        "print('X_arr shape: ', X_arr.shape)\n",
        "print('Y_arr shape: ', Y_arr.shape)"
      ],
      "execution_count": 45,
      "outputs": [
        {
          "output_type": "stream",
          "text": [
            "X_arr shape:  (5000, 6)\n",
            "Y_arr shape:  (5000,)\n"
          ],
          "name": "stdout"
        }
      ]
    },
    {
      "cell_type": "markdown",
      "metadata": {
        "id": "HRmLgj1qPNOJ",
        "colab_type": "text"
      },
      "source": [
        "## 4.4: Train and Test Split\n",
        "\n",
        "We will keep some part of the data aside as a __test__ set. The model will not use this set during training and it will be used only for checking the performance of the model in trained and un-trained states. This way, we can make sure that we are going in the right direction with our model training."
      ]
    },
    {
      "cell_type": "code",
      "metadata": {
        "id": "osWDowTxPNOJ",
        "colab_type": "code",
        "colab": {
          "base_uri": "https://localhost:8080/",
          "height": 87
        },
        "outputId": "e1732ec6-aee6-4044-aa28-fb4fd0681a1a"
      },
      "source": [
        "X_train, X_test, y_train, y_test = train_test_split(X_arr, Y_arr, test_size = 0.05, shuffle = True, random_state=0)\n",
        "\n",
        "print('X_train shape: ', X_train.shape)\n",
        "print('y_train shape: ', y_train.shape)\n",
        "print('X_test shape: ', X_test.shape)\n",
        "print('y_test shape: ', y_test.shape)"
      ],
      "execution_count": 46,
      "outputs": [
        {
          "output_type": "stream",
          "text": [
            "X_train shape:  (4750, 6)\n",
            "y_train shape:  (4750,)\n",
            "X_test shape:  (250, 6)\n",
            "y_test shape:  (250,)\n"
          ],
          "name": "stdout"
        }
      ]
    },
    {
      "cell_type": "markdown",
      "metadata": {
        "id": "t_ZAuRwrPNOM",
        "colab_type": "text"
      },
      "source": [
        "# Task 5: Create the Model"
      ]
    },
    {
      "cell_type": "markdown",
      "metadata": {
        "id": "J7aub965PNOM",
        "colab_type": "text"
      },
      "source": [
        "## 5.1: Create the Model\n",
        "\n",
        "Now writing a function that returns an untrained model with three hidden layers which are densely connected."
      ]
    },
    {
      "cell_type": "code",
      "metadata": {
        "id": "4sgJc_i0PNON",
        "colab_type": "code",
        "colab": {
          "base_uri": "https://localhost:8080/",
          "height": 295
        },
        "outputId": "e95effb4-91e2-47f9-f7c8-64f9e23582b0"
      },
      "source": [
        "def get_model():\n",
        "    \n",
        "    model = Sequential([\n",
        "        Dense(10, input_shape = (6,), activation = 'relu'),\n",
        "        Dense(20, activation = 'relu'),\n",
        "        Dense(5, activation = 'relu'),\n",
        "        Dense(1) \n",
        "    ])\n",
        "    #relu = Rectified Linear Activation Unit\n",
        "    model.compile(\n",
        "        loss='mse',\n",
        "        optimizer='adam',\n",
        "        metrics=[accuracy]    \n",
        "        )\n",
        "    #mse -> mean square error\n",
        "    \n",
        "    return model\n",
        "\n",
        "model = get_model()\n",
        "model.summary()"
      ],
      "execution_count": 75,
      "outputs": [
        {
          "output_type": "stream",
          "text": [
            "Model: \"sequential_19\"\n",
            "_________________________________________________________________\n",
            "Layer (type)                 Output Shape              Param #   \n",
            "=================================================================\n",
            "dense_76 (Dense)             (None, 10)                70        \n",
            "_________________________________________________________________\n",
            "dense_77 (Dense)             (None, 20)                220       \n",
            "_________________________________________________________________\n",
            "dense_78 (Dense)             (None, 5)                 105       \n",
            "_________________________________________________________________\n",
            "dense_79 (Dense)             (None, 1)                 6         \n",
            "=================================================================\n",
            "Total params: 401\n",
            "Trainable params: 401\n",
            "Non-trainable params: 0\n",
            "_________________________________________________________________\n"
          ],
          "name": "stdout"
        }
      ]
    },
    {
      "cell_type": "markdown",
      "metadata": {
        "id": "z9z87rlxPNOP",
        "colab_type": "text"
      },
      "source": [
        "# Task 6: Model Training"
      ]
    },
    {
      "cell_type": "markdown",
      "metadata": {
        "id": "1EhHbNtzPNOP",
        "colab_type": "text"
      },
      "source": [
        "## 6.1: Model Training\n",
        "\n",
        "We are using an `EarlyStopping` callback from Keras to stop the model training if the validation loss stops decreasing for a few epochs."
      ]
    },
    {
      "cell_type": "code",
      "metadata": {
        "id": "fg2jjMDmPNOQ",
        "colab_type": "code",
        "colab": {
          "base_uri": "https://localhost:8080/",
          "height": 731
        },
        "outputId": "1925c701-8b40-4ba8-9962-fbbb3efe0262"
      },
      "source": [
        "early_stopping = EarlyStopping(monitor='val_loss', patience = 5)\n",
        "\n",
        "model = get_model()\n",
        "\n",
        "preds_on_untrained = model.predict(X_test)\n",
        "\n",
        "\n",
        "history = model.fit(\n",
        "    X_train, y_train,\n",
        "    validation_data = (X_test, y_test),\n",
        "    epochs = 100,\n",
        "    callbacks = [early_stopping]\n",
        ")\n",
        "\n",
        "\n",
        "#print(history.history['accuracy'])"
      ],
      "execution_count": 67,
      "outputs": [
        {
          "output_type": "stream",
          "text": [
            "Epoch 1/100\n",
            "149/149 [==============================] - 0s 2ms/step - loss: 0.6894 - soft_acc: 0.4499 - val_loss: 0.3943 - val_soft_acc: 0.5556\n",
            "Epoch 2/100\n",
            "149/149 [==============================] - 0s 1ms/step - loss: 0.3436 - soft_acc: 0.5612 - val_loss: 0.2510 - val_soft_acc: 0.5956\n",
            "Epoch 3/100\n",
            "149/149 [==============================] - 0s 1ms/step - loss: 0.2496 - soft_acc: 0.6052 - val_loss: 0.1989 - val_soft_acc: 0.6364\n",
            "Epoch 4/100\n",
            "149/149 [==============================] - 0s 1ms/step - loss: 0.2047 - soft_acc: 0.6330 - val_loss: 0.1737 - val_soft_acc: 0.6812\n",
            "Epoch 5/100\n",
            "149/149 [==============================] - 0s 1ms/step - loss: 0.1852 - soft_acc: 0.6444 - val_loss: 0.1665 - val_soft_acc: 0.6899\n",
            "Epoch 6/100\n",
            "149/149 [==============================] - 0s 1ms/step - loss: 0.1751 - soft_acc: 0.6503 - val_loss: 0.1619 - val_soft_acc: 0.6782\n",
            "Epoch 7/100\n",
            "149/149 [==============================] - 0s 1ms/step - loss: 0.1698 - soft_acc: 0.6543 - val_loss: 0.1578 - val_soft_acc: 0.6821\n",
            "Epoch 8/100\n",
            "149/149 [==============================] - 0s 1ms/step - loss: 0.1663 - soft_acc: 0.6548 - val_loss: 0.1529 - val_soft_acc: 0.6899\n",
            "Epoch 9/100\n",
            "149/149 [==============================] - 0s 1ms/step - loss: 0.1636 - soft_acc: 0.6588 - val_loss: 0.1555 - val_soft_acc: 0.6977\n",
            "Epoch 10/100\n",
            "149/149 [==============================] - 0s 1ms/step - loss: 0.1626 - soft_acc: 0.6550 - val_loss: 0.1491 - val_soft_acc: 0.6986\n",
            "Epoch 11/100\n",
            "149/149 [==============================] - 0s 1ms/step - loss: 0.1604 - soft_acc: 0.6598 - val_loss: 0.1485 - val_soft_acc: 0.7025\n",
            "Epoch 12/100\n",
            "149/149 [==============================] - 0s 1ms/step - loss: 0.1594 - soft_acc: 0.6628 - val_loss: 0.1520 - val_soft_acc: 0.6899\n",
            "Epoch 13/100\n",
            "149/149 [==============================] - 0s 1ms/step - loss: 0.1585 - soft_acc: 0.6598 - val_loss: 0.1505 - val_soft_acc: 0.6791\n",
            "Epoch 14/100\n",
            "149/149 [==============================] - 0s 1ms/step - loss: 0.1576 - soft_acc: 0.6648 - val_loss: 0.1467 - val_soft_acc: 0.6947\n",
            "Epoch 15/100\n",
            "149/149 [==============================] - 0s 1ms/step - loss: 0.1570 - soft_acc: 0.6678 - val_loss: 0.1458 - val_soft_acc: 0.7151\n",
            "Epoch 16/100\n",
            "149/149 [==============================] - 0s 1ms/step - loss: 0.1557 - soft_acc: 0.6625 - val_loss: 0.1491 - val_soft_acc: 0.6830\n",
            "Epoch 17/100\n",
            "149/149 [==============================] - 0s 1ms/step - loss: 0.1564 - soft_acc: 0.6653 - val_loss: 0.1469 - val_soft_acc: 0.7073\n",
            "Epoch 18/100\n",
            "149/149 [==============================] - 0s 1ms/step - loss: 0.1555 - soft_acc: 0.6664 - val_loss: 0.1474 - val_soft_acc: 0.6947\n",
            "Epoch 19/100\n",
            "149/149 [==============================] - 0s 1ms/step - loss: 0.1553 - soft_acc: 0.6634 - val_loss: 0.1465 - val_soft_acc: 0.6986\n",
            "Epoch 20/100\n",
            "149/149 [==============================] - 0s 1ms/step - loss: 0.1542 - soft_acc: 0.6699 - val_loss: 0.1469 - val_soft_acc: 0.6956\n"
          ],
          "name": "stdout"
        }
      ]
    },
    {
      "cell_type": "markdown",
      "metadata": {
        "id": "z3h00rSIPNOS",
        "colab_type": "text"
      },
      "source": [
        "## 6.2: Plot Training Loss and Validation Loss\n",
        "\n",
        "Now, we will  use the `plot_loss`  function (written on  `utils.py` file) to take a look training and validation loss."
      ]
    },
    {
      "cell_type": "code",
      "metadata": {
        "id": "f12IlR9OPNOT",
        "colab_type": "code",
        "colab": {
          "base_uri": "https://localhost:8080/",
          "height": 497
        },
        "outputId": "961d8035-0edf-40da-96a3-8860b5dd4a57"
      },
      "source": [
        "def plot_loss(history):\n",
        "    h = history.history\n",
        "    x_lim = len(h['loss'])\n",
        "    plt.figure(figsize=(8, 8))\n",
        "    plt.plot(range(x_lim), h['val_loss'], label = 'Validation Loss')\n",
        "    plt.plot(range(x_lim), h['loss'], label = 'Training Loss')\n",
        "    plt.xlabel('Epochs')\n",
        "    plt.ylabel('Loss')\n",
        "    plt.legend()\n",
        "    plt.show()\n",
        "    return\n",
        "    \n",
        "plot_loss(history)"
      ],
      "execution_count": 68,
      "outputs": [
        {
          "output_type": "display_data",
          "data": {
            "image/png": "[encoded data removed]",
            "text/plain": [
              "<Figure size 576x576 with 1 Axes>"
            ]
          },
          "metadata": {
            "tags": [],
            "needs_background": "light"
          }
        }
      ]
    },
    {
      "cell_type": "markdown",
      "metadata": {
        "id": "1McmhzQiPNOV",
        "colab_type": "text"
      },
      "source": [
        "# Task 7: Predictions"
      ]
    },
    {
      "cell_type": "markdown",
      "metadata": {
        "id": "6FXW92k6jgqM",
        "colab_type": "text"
      },
      "source": [
        "Now, at first we are wrtting a function which `compare_predictions` helper function to compare predictions from the model when it was untrained and when it was trained."
      ]
    },
    {
      "cell_type": "code",
      "metadata": {
        "id": "ZyBZqy6TjcRr",
        "colab_type": "code",
        "colab": {}
      },
      "source": [
        "def compare_predictions(preds1, preds2, y_test):\n",
        "    plt.figure(figsize=(8, 8))\n",
        "    plt.plot(preds1, y_test, 'ro', label='Untrained Model')\n",
        "    plt.plot(preds2, y_test, 'go', label='Trained Model')\n",
        "    plt.xlabel('Preds')\n",
        "    plt.ylabel('Labels')\n",
        "    \n",
        "    y_min = min(min(y_test), min(preds1), min(preds2))\n",
        "    y_max = max(max(y_test), max(preds1), max(preds2))\n",
        "    \n",
        "    plt.xlim([y_min, y_max])\n",
        "    plt.ylim([y_min, y_max])\n",
        "    plt.plot([y_min, y_max], [y_min, y_max], 'b--')\n",
        "    plt.legend()\n",
        "    plt.show()\n",
        "    return"
      ],
      "execution_count": 69,
      "outputs": []
    },
    {
      "cell_type": "markdown",
      "metadata": {
        "id": "kt899jl_PNOW",
        "colab_type": "text"
      },
      "source": [
        "## 7.1: Plot Raw Predictions\n",
        "\n",
        "\n",
        "And than using this function we will show the comparison."
      ]
    },
    {
      "cell_type": "code",
      "metadata": {
        "id": "4j1Im8jUPNOW",
        "colab_type": "code",
        "colab": {
          "base_uri": "https://localhost:8080/",
          "height": 497
        },
        "outputId": "5d0a052c-5c83-4842-d06a-582f91890c5f"
      },
      "source": [
        "preds_on_trained = model.predict(X_test)\n",
        "\n",
        "compare_predictions(preds_on_untrained, preds_on_trained, y_test)"
      ],
      "execution_count": 70,
      "outputs": [
        {
          "output_type": "display_data",
          "data": {
            "image/png": "[encoded data removed]",
            "text/plain": [
              "<Figure size 576x576 with 1 Axes>"
            ]
          },
          "metadata": {
            "tags": [],
            "needs_background": "light"
          }
        }
      ]
    },
    {
      "cell_type": "markdown",
      "metadata": {
        "id": "4ALfgii2PNOY",
        "colab_type": "text"
      },
      "source": [
        "## 7.2: Plot Original Price Predictions\n",
        "\n",
        "The plot for price predictions and raw predictions will look the same with just one difference: The x and y axis scale is changed. Here we will first convert the label values( y value) to its original form using the `convert_label_values` function written on `section 3.2`"
      ]
    },
    {
      "cell_type": "code",
      "metadata": {
        "id": "K6SLCTH6PNOY",
        "colab_type": "code",
        "colab": {
          "base_uri": "https://localhost:8080/",
          "height": 497
        },
        "outputId": "aa087a73-851f-4727-cab3-8b1ff806c9db"
      },
      "source": [
        "price_on_untrained = [convert_label_value(y) for y in preds_on_untrained]\n",
        "price_on_trained = [convert_label_value(y) for y in preds_on_trained]\n",
        "price_y_test = [convert_label_value(y) for y in y_test]\n",
        "\n",
        "\n",
        "\n",
        "compare_predictions(price_on_untrained, price_on_trained, price_y_test)"
      ],
      "execution_count": 71,
      "outputs": [
        {
          "output_type": "display_data",
          "data": {
            "image/png": "[encoded data removed]",
            "text/plain": [
              "<Figure size 576x576 with 1 Axes>"
            ]
          },
          "metadata": {
            "tags": [],
            "needs_background": "light"
          }
        }
      ]
    },
    {
      "cell_type": "code",
      "metadata": {
        "id": "fZGdAHKtokuj",
        "colab_type": "code",
        "colab": {
          "base_uri": "https://localhost:8080/",
          "height": 69
        },
        "outputId": "f5eb35b4-d4a5-48c8-dd50-da0bada25721"
      },
      "source": [
        "import numpy as np\n",
        "from sklearn import metrics\n",
        "y_pred = np.array(preds_on_trained)\n",
        "y_true = np.array(price_y_test)\n",
        "\n",
        "\n",
        "print(\"Mean Absolute Error (MAE): \",metrics.mean_absolute_error(y_true, y_pred))\n",
        "print(\"Mean Squared Error (MSE): \",metrics.mean_squared_error(y_true, y_pred))\n",
        "print(\"Root Mean Squared Error (RMSE): \",np.sqrt(metrics.mean_squared_error(y_true, y_pred)))"
      ],
      "execution_count": 93,
      "outputs": [
        {
          "output_type": "stream",
          "text": [
            "Mean Absolute Error (MAE):  13945.525791986227\n",
            "Mean Squared Error (MSE):  195376690.70965487\n",
            "Root Mean Squared Error (RMSE):  13977.721227355154\n"
          ],
          "name": "stdout"
        }
      ]
    }
  ]
}